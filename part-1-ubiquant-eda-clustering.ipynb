{
 "cells": [
  {
   "cell_type": "markdown",
   "metadata": {
    "_cell_guid": "b1076dfc-b9ad-4769-8c92-a6c4dae69d19",
    "_uuid": "8f2839f25d086af736a60e9eeb907d3b93b6e0e5",
    "papermill": {
     "duration": 0.020158,
     "end_time": "2022-02-26T10:39:00.139004",
     "exception": false,
     "start_time": "2022-02-26T10:39:00.118846",
     "status": "completed"
    },
    "tags": []
   },
   "source": [
    "# Speed Up Loading The Data By Importing from the Parquet Dataset\n",
    "\n",
    "Dataset Link here: https://www.kaggle.com/robikscube/ubiquant-parquet\n",
    "\n",
    "Read about parquet files here: https://databricks.com/glossary/what-is-parquet\n",
    "\n",
    "Excerpt from the above website:\n",
    "\n",
    "**What is Parquet?**\n",
    "\n",
    "*Parquet is an open source file format available to any project in the Hadoop ecosystem. Apache Parquet is designed for efficient as well as performant flat columnar storage format of data compared to row based files like CSV or TSV files.*\n",
    "\n",
    "*Parquet uses the record shredding and assembly algorithm which is superior to simple flattening of nested namespaces. Parquet is optimized to work with complex data in bulk and features different ways for efficient data compression and encoding types.  This approach is best especially for those queries that need to read certain columns from a large table. Parquet can only read the needed columns therefore greatly minimizing the IO.*"
   ]
  },
  {
   "cell_type": "code",
   "execution_count": 3,
   "metadata": {
    "execution": {
     "iopub.execute_input": "2022-03-05T07:23:11.327327Z",
     "iopub.status.busy": "2022-03-05T07:23:11.326933Z",
     "iopub.status.idle": "2022-03-05T07:23:12.572469Z",
     "shell.execute_reply": "2022-03-05T07:23:12.571843Z",
     "shell.execute_reply.started": "2022-03-05T07:23:11.327298Z"
    },
    "papermill": {
     "duration": 1.234224,
     "end_time": "2022-02-26T10:39:01.392696",
     "exception": false,
     "start_time": "2022-02-26T10:39:00.158472",
     "status": "completed"
    },
    "tags": []
   },
   "outputs": [],
   "source": [
    "import os\n",
    "import gc\n",
    "import sys\n",
    "import json\n",
    "import joblib\n",
    "import random\n",
    "import numpy as np\n",
    "import pandas as pd\n",
    "from pathlib import Path\n",
    "from tqdm.auto import tqdm\n",
    "from datetime import datetime\n",
    "from datetime import timedelta\n",
    "from argparse import Namespace\n",
    "from collections import defaultdict\n",
    "from scipy.signal import find_peaks\n",
    "\n",
    "import seaborn as sns\n",
    "import matplotlib.pyplot as plt\n",
    "import matplotlib.dates as mdates\n",
    "from scipy.stats import pearsonr\n",
    "from sklearn.metrics import mean_squared_error\n",
    "from sklearn.preprocessing import MinMaxScaler, StandardScaler\n",
    "from sklearn.model_selection import TimeSeriesSplit, StratifiedKFold, GroupKFold, train_test_split, KFold\n",
    "\n",
    "import matplotlib.style as style\n",
    "style.use('fivethirtyeight') "
   ]
  },
  {
   "cell_type": "markdown",
   "metadata": {
    "papermill": {
     "duration": 0.018668,
     "end_time": "2022-02-26T10:39:01.430925",
     "exception": false,
     "start_time": "2022-02-26T10:39:01.412257",
     "status": "completed"
    },
    "tags": []
   },
   "source": [
    "# Reading as Parquet Low Memory (Fast & Low Mem Use)\n",
    "- **3.63GB** in size\n",
    "- Even better! Uses less memory and loads even faster!"
   ]
  },
  {
   "cell_type": "code",
   "execution_count": 4,
   "metadata": {
    "execution": {
     "iopub.execute_input": "2022-03-05T07:24:27.403670Z",
     "iopub.status.busy": "2022-03-05T07:24:27.403361Z",
     "iopub.status.idle": "2022-03-05T07:25:05.083146Z",
     "shell.execute_reply": "2022-03-05T07:25:05.082180Z",
     "shell.execute_reply.started": "2022-03-05T07:24:27.403639Z"
    },
    "papermill": {
     "duration": 35.092586,
     "end_time": "2022-02-26T10:39:36.542817",
     "exception": false,
     "start_time": "2022-02-26T10:39:01.450231",
     "status": "completed"
    },
    "scrolled": true,
    "tags": []
   },
   "outputs": [
    {
     "name": "stdout",
     "output_type": "stream",
     "text": [
      "CPU times: user 2.92 s, sys: 745 ms, total: 3.67 s\n",
      "Wall time: 3.67 s\n"
     ]
    }
   ],
   "source": [
    "%%time\n",
    "train = pd.read_parquet('train_low_mem.parquet')"
   ]
  },
  {
   "cell_type": "code",
   "execution_count": 5,
   "metadata": {
    "execution": {
     "iopub.execute_input": "2022-03-05T07:25:05.085029Z",
     "iopub.status.busy": "2022-03-05T07:25:05.084576Z",
     "iopub.status.idle": "2022-03-05T07:25:05.092982Z",
     "shell.execute_reply": "2022-03-05T07:25:05.092210Z",
     "shell.execute_reply.started": "2022-03-05T07:25:05.084997Z"
    },
    "papermill": {
     "duration": 0.032248,
     "end_time": "2022-02-26T10:39:36.594792",
     "exception": false,
     "start_time": "2022-02-26T10:39:36.562544",
     "status": "completed"
    },
    "scrolled": true,
    "tags": []
   },
   "outputs": [
    {
     "data": {
      "text/plain": [
       "row_id            object\n",
       "time_id           uint16\n",
       "investment_id     uint16\n",
       "target           float32\n",
       "f_0              float32\n",
       "                  ...   \n",
       "f_295            float32\n",
       "f_296            float32\n",
       "f_297            float32\n",
       "f_298            float32\n",
       "f_299            float32\n",
       "Length: 304, dtype: object"
      ]
     },
     "execution_count": 5,
     "metadata": {},
     "output_type": "execute_result"
    }
   ],
   "source": [
    "train.dtypes"
   ]
  },
  {
   "cell_type": "markdown",
   "metadata": {},
   "source": [
    "# Read a share history tickers"
   ]
  },
  {
   "cell_type": "code",
   "execution_count": 6,
   "metadata": {
    "execution": {
     "iopub.execute_input": "2022-03-05T07:53:08.506725Z",
     "iopub.status.busy": "2022-03-05T07:53:08.506221Z",
     "iopub.status.idle": "2022-03-05T07:53:09.503387Z",
     "shell.execute_reply": "2022-03-05T07:53:09.502658Z",
     "shell.execute_reply.started": "2022-03-05T07:53:08.506693Z"
    }
   },
   "outputs": [],
   "source": [
    "scaler = StandardScaler()\n",
    "\n",
    "a_share_tickers = pd.read_csv('a_share_tickers.csv', parse_dates=[\"date\"], date_parser=lambda x: datetime.strptime(x, '%Y-%m-%d')).set_index('date')\n",
    "a_share_tickers[a_share_tickers.columns] = scaler.fit_transform(a_share_tickers)"
   ]
  },
  {
   "cell_type": "markdown",
   "metadata": {
    "papermill": {
     "duration": 0.019384,
     "end_time": "2022-02-26T10:39:36.67351",
     "exception": false,
     "start_time": "2022-02-26T10:39:36.654126",
     "status": "completed"
    },
    "tags": []
   },
   "source": [
    "# Time_id EDA\n",
    "\n",
    "### Find min, max and number of unique time_ids"
   ]
  },
  {
   "cell_type": "code",
   "execution_count": 7,
   "metadata": {
    "execution": {
     "iopub.execute_input": "2022-03-05T07:25:06.122467Z",
     "iopub.status.busy": "2022-03-05T07:25:06.122224Z",
     "iopub.status.idle": "2022-03-05T07:25:06.157047Z",
     "shell.execute_reply": "2022-03-05T07:25:06.156130Z",
     "shell.execute_reply.started": "2022-03-05T07:25:06.122438Z"
    },
    "papermill": {
     "duration": 0.055046,
     "end_time": "2022-02-26T10:39:36.748373",
     "exception": false,
     "start_time": "2022-02-26T10:39:36.693327",
     "status": "completed"
    },
    "tags": []
   },
   "outputs": [
    {
     "data": {
      "text/plain": [
       "(0, 1219, 1211)"
      ]
     },
     "execution_count": 7,
     "metadata": {},
     "output_type": "execute_result"
    }
   ],
   "source": [
    "train.time_id.min(), train.time_id.max(), train.time_id.unique().shape[0]"
   ]
  },
  {
   "cell_type": "markdown",
   "metadata": {
    "papermill": {
     "duration": 0.02007,
     "end_time": "2022-02-26T10:39:36.788618",
     "exception": false,
     "start_time": "2022-02-26T10:39:36.768548",
     "status": "completed"
    },
    "tags": []
   },
   "source": [
    "### Find missing time_ids"
   ]
  },
  {
   "cell_type": "code",
   "execution_count": 8,
   "metadata": {
    "execution": {
     "iopub.execute_input": "2022-03-04T15:04:52.977533Z",
     "iopub.status.busy": "2022-03-04T15:04:52.976855Z",
     "iopub.status.idle": "2022-03-04T15:04:52.986518Z",
     "shell.execute_reply": "2022-03-04T15:04:52.985819Z",
     "shell.execute_reply.started": "2022-03-04T15:04:52.977464Z"
    },
    "papermill": {
     "duration": 0.051708,
     "end_time": "2022-02-26T10:39:36.860549",
     "exception": false,
     "start_time": "2022-02-26T10:39:36.808841",
     "status": "completed"
    },
    "tags": []
   },
   "outputs": [],
   "source": [
    "# missing_time_ids = list()\n",
    "\n",
    "# i = 0\n",
    "# for time_id in train.time_id.unique():\n",
    "#     if time_id != i:\n",
    "#         for j in range(i, time_id):\n",
    "#             missing_time_ids.append(j)\n",
    "#         i = time_id + 1\n",
    "#     else:\n",
    "#         i += 1\n",
    "               \n",
    "# missing_time_ids"
   ]
  },
  {
   "cell_type": "markdown",
   "metadata": {
    "papermill": {
     "duration": 0.020217,
     "end_time": "2022-02-26T10:39:36.902879",
     "exception": false,
     "start_time": "2022-02-26T10:39:36.882662",
     "status": "completed"
    },
    "tags": []
   },
   "source": [
    "# Stock market calendar analysis\n",
    "\n",
    "According to this [discussion](https://www.kaggle.com/c/ubiquant-market-prediction/discussion/309720) dataset's time_id feature corresponds to business days on Chinese calendar from 1.1.2014 to 31.12.2018. Let's add this data to our dataset."
   ]
  },
  {
   "cell_type": "code",
   "execution_count": 9,
   "metadata": {
    "execution": {
     "iopub.execute_input": "2022-03-05T07:25:06.158966Z",
     "iopub.status.busy": "2022-03-05T07:25:06.158374Z",
     "iopub.status.idle": "2022-03-05T07:25:06.231146Z",
     "shell.execute_reply": "2022-03-05T07:25:06.230124Z",
     "shell.execute_reply.started": "2022-03-05T07:25:06.158937Z"
    },
    "papermill": {
     "duration": 0.110916,
     "end_time": "2022-02-26T10:39:37.034166",
     "exception": false,
     "start_time": "2022-02-26T10:39:36.92325",
     "status": "completed"
    },
    "tags": []
   },
   "outputs": [
    {
     "data": {
      "text/html": [
       "<div>\n",
       "<style scoped>\n",
       "    .dataframe tbody tr th:only-of-type {\n",
       "        vertical-align: middle;\n",
       "    }\n",
       "\n",
       "    .dataframe tbody tr th {\n",
       "        vertical-align: top;\n",
       "    }\n",
       "\n",
       "    .dataframe thead th {\n",
       "        text-align: right;\n",
       "    }\n",
       "</style>\n",
       "<table border=\"1\" class=\"dataframe\">\n",
       "  <thead>\n",
       "    <tr style=\"text-align: right;\">\n",
       "      <th></th>\n",
       "      <th>date</th>\n",
       "      <th>weekday</th>\n",
       "      <th>year</th>\n",
       "      <th>day</th>\n",
       "      <th>month</th>\n",
       "      <th>time_id</th>\n",
       "    </tr>\n",
       "  </thead>\n",
       "  <tbody>\n",
       "    <tr>\n",
       "      <th>0</th>\n",
       "      <td>2014-01-02</td>\n",
       "      <td>3</td>\n",
       "      <td>2014</td>\n",
       "      <td>2</td>\n",
       "      <td>1</td>\n",
       "      <td>0</td>\n",
       "    </tr>\n",
       "    <tr>\n",
       "      <th>1</th>\n",
       "      <td>2014-01-03</td>\n",
       "      <td>4</td>\n",
       "      <td>2014</td>\n",
       "      <td>3</td>\n",
       "      <td>1</td>\n",
       "      <td>1</td>\n",
       "    </tr>\n",
       "    <tr>\n",
       "      <th>2</th>\n",
       "      <td>2014-01-06</td>\n",
       "      <td>0</td>\n",
       "      <td>2014</td>\n",
       "      <td>6</td>\n",
       "      <td>1</td>\n",
       "      <td>2</td>\n",
       "    </tr>\n",
       "    <tr>\n",
       "      <th>3</th>\n",
       "      <td>2014-01-07</td>\n",
       "      <td>1</td>\n",
       "      <td>2014</td>\n",
       "      <td>7</td>\n",
       "      <td>1</td>\n",
       "      <td>3</td>\n",
       "    </tr>\n",
       "    <tr>\n",
       "      <th>4</th>\n",
       "      <td>2014-01-08</td>\n",
       "      <td>2</td>\n",
       "      <td>2014</td>\n",
       "      <td>8</td>\n",
       "      <td>1</td>\n",
       "      <td>4</td>\n",
       "    </tr>\n",
       "  </tbody>\n",
       "</table>\n",
       "</div>"
      ],
      "text/plain": [
       "        date  weekday  year  day  month  time_id\n",
       "0 2014-01-02        3  2014    2      1        0\n",
       "1 2014-01-03        4  2014    3      1        1\n",
       "2 2014-01-06        0  2014    6      1        2\n",
       "3 2014-01-07        1  2014    7      1        3\n",
       "4 2014-01-08        2  2014    8      1        4"
      ]
     },
     "metadata": {},
     "output_type": "display_data"
    },
    {
     "data": {
      "text/html": [
       "<div>\n",
       "<style scoped>\n",
       "    .dataframe tbody tr th:only-of-type {\n",
       "        vertical-align: middle;\n",
       "    }\n",
       "\n",
       "    .dataframe tbody tr th {\n",
       "        vertical-align: top;\n",
       "    }\n",
       "\n",
       "    .dataframe thead th {\n",
       "        text-align: right;\n",
       "    }\n",
       "</style>\n",
       "<table border=\"1\" class=\"dataframe\">\n",
       "  <thead>\n",
       "    <tr style=\"text-align: right;\">\n",
       "      <th></th>\n",
       "      <th>date</th>\n",
       "      <th>weekday</th>\n",
       "      <th>year</th>\n",
       "      <th>day</th>\n",
       "      <th>month</th>\n",
       "      <th>time_id</th>\n",
       "    </tr>\n",
       "  </thead>\n",
       "  <tbody>\n",
       "    <tr>\n",
       "      <th>1215</th>\n",
       "      <td>2018-12-20</td>\n",
       "      <td>3</td>\n",
       "      <td>2018</td>\n",
       "      <td>20</td>\n",
       "      <td>12</td>\n",
       "      <td>1215</td>\n",
       "    </tr>\n",
       "    <tr>\n",
       "      <th>1216</th>\n",
       "      <td>2018-12-21</td>\n",
       "      <td>4</td>\n",
       "      <td>2018</td>\n",
       "      <td>21</td>\n",
       "      <td>12</td>\n",
       "      <td>1216</td>\n",
       "    </tr>\n",
       "    <tr>\n",
       "      <th>1217</th>\n",
       "      <td>2018-12-24</td>\n",
       "      <td>0</td>\n",
       "      <td>2018</td>\n",
       "      <td>24</td>\n",
       "      <td>12</td>\n",
       "      <td>1217</td>\n",
       "    </tr>\n",
       "    <tr>\n",
       "      <th>1218</th>\n",
       "      <td>2018-12-25</td>\n",
       "      <td>1</td>\n",
       "      <td>2018</td>\n",
       "      <td>25</td>\n",
       "      <td>12</td>\n",
       "      <td>1218</td>\n",
       "    </tr>\n",
       "    <tr>\n",
       "      <th>1219</th>\n",
       "      <td>2018-12-26</td>\n",
       "      <td>2</td>\n",
       "      <td>2018</td>\n",
       "      <td>26</td>\n",
       "      <td>12</td>\n",
       "      <td>1219</td>\n",
       "    </tr>\n",
       "  </tbody>\n",
       "</table>\n",
       "</div>"
      ],
      "text/plain": [
       "           date  weekday  year  day  month  time_id\n",
       "1215 2018-12-20        3  2018   20     12     1215\n",
       "1216 2018-12-21        4  2018   21     12     1216\n",
       "1217 2018-12-24        0  2018   24     12     1217\n",
       "1218 2018-12-25        1  2018   25     12     1218\n",
       "1219 2018-12-26        2  2018   26     12     1219"
      ]
     },
     "metadata": {},
     "output_type": "display_data"
    }
   ],
   "source": [
    "calendar_df = pd.read_csv(\"holidays_of_china_from_2014_to_2030.csv\", parse_dates=[\"date\"], date_parser=lambda x: datetime.strptime(x, '%Y-%m-%d'))\n",
    "calendar_df = calendar_df[calendar_df.type.isin(['National holiday', 'Common local holiday'])]\n",
    "\n",
    "calendar_df = pd.DataFrame({'date': pd.date_range(start='1/1/2014', end='31/12/2018')}).merge(calendar_df, on='date', how='left')\n",
    "calendar_df['day'] = calendar_df.date.dt.day.astype('int8')\n",
    "calendar_df['month'] = calendar_df.date.dt.month.astype('int8')\n",
    "calendar_df.year = calendar_df.date.dt.year.astype('int16')\n",
    "calendar_df.weekday = calendar_df.date.dt.weekday.astype('int8')\n",
    "\n",
    "calendar_df = calendar_df[(~calendar_df.weekday.isin([5, 6])) & (calendar_df.type.isna())].reset_index(drop=True).iloc[:1220]\n",
    "calendar_df.drop(['name', 'type'], axis=1, inplace=True)\n",
    "calendar_df['time_id'] = calendar_df.index\n",
    "calendar_df.time_id = calendar_df.time_id.astype('int16')\n",
    "\n",
    "display(calendar_df.head())\n",
    "display(calendar_df.tail())"
   ]
  },
  {
   "cell_type": "markdown",
   "metadata": {
    "papermill": {
     "duration": 0.021806,
     "end_time": "2022-02-26T10:39:37.077932",
     "exception": false,
     "start_time": "2022-02-26T10:39:37.056126",
     "status": "completed"
    },
    "tags": []
   },
   "source": [
    "### Find exact dates for missing time ids"
   ]
  },
  {
   "cell_type": "code",
   "execution_count": 10,
   "metadata": {
    "execution": {
     "iopub.execute_input": "2022-03-04T15:04:53.062934Z",
     "iopub.status.busy": "2022-03-04T15:04:53.062308Z",
     "iopub.status.idle": "2022-03-04T15:04:53.067095Z",
     "shell.execute_reply": "2022-03-04T15:04:53.06626Z",
     "shell.execute_reply.started": "2022-03-04T15:04:53.062889Z"
    },
    "papermill": {
     "duration": 0.038235,
     "end_time": "2022-02-26T10:39:37.138408",
     "exception": false,
     "start_time": "2022-02-26T10:39:37.100173",
     "status": "completed"
    },
    "tags": []
   },
   "outputs": [],
   "source": [
    "# calendar_df[calendar_df.time_id.isin(missing_time_ids)]"
   ]
  },
  {
   "cell_type": "markdown",
   "metadata": {
    "papermill": {
     "duration": 0.022137,
     "end_time": "2022-02-26T10:39:37.182778",
     "exception": false,
     "start_time": "2022-02-26T10:39:37.160641",
     "status": "completed"
    },
    "tags": []
   },
   "source": [
    "These dates match with dates of China stock market lockdown.\n",
    "\n",
    "### Merge datetime information with train dataset"
   ]
  },
  {
   "cell_type": "code",
   "execution_count": 11,
   "metadata": {
    "execution": {
     "iopub.execute_input": "2022-03-05T07:25:06.232632Z",
     "iopub.status.busy": "2022-03-05T07:25:06.232331Z",
     "iopub.status.idle": "2022-03-05T07:25:09.136079Z",
     "shell.execute_reply": "2022-03-05T07:25:09.135163Z",
     "shell.execute_reply.started": "2022-03-05T07:25:06.232578Z"
    },
    "papermill": {
     "duration": 2.813729,
     "end_time": "2022-02-26T10:39:40.018837",
     "exception": false,
     "start_time": "2022-02-26T10:39:37.205108",
     "status": "completed"
    },
    "tags": []
   },
   "outputs": [
    {
     "data": {
      "text/html": [
       "<div>\n",
       "<style scoped>\n",
       "    .dataframe tbody tr th:only-of-type {\n",
       "        vertical-align: middle;\n",
       "    }\n",
       "\n",
       "    .dataframe tbody tr th {\n",
       "        vertical-align: top;\n",
       "    }\n",
       "\n",
       "    .dataframe thead th {\n",
       "        text-align: right;\n",
       "    }\n",
       "</style>\n",
       "<table border=\"1\" class=\"dataframe\">\n",
       "  <thead>\n",
       "    <tr style=\"text-align: right;\">\n",
       "      <th></th>\n",
       "      <th>row_id</th>\n",
       "      <th>time_id</th>\n",
       "      <th>investment_id</th>\n",
       "      <th>target</th>\n",
       "      <th>f_0</th>\n",
       "      <th>f_1</th>\n",
       "      <th>f_2</th>\n",
       "      <th>f_3</th>\n",
       "      <th>f_4</th>\n",
       "      <th>f_5</th>\n",
       "      <th>...</th>\n",
       "      <th>f_295</th>\n",
       "      <th>f_296</th>\n",
       "      <th>f_297</th>\n",
       "      <th>f_298</th>\n",
       "      <th>f_299</th>\n",
       "      <th>date</th>\n",
       "      <th>weekday</th>\n",
       "      <th>year</th>\n",
       "      <th>day</th>\n",
       "      <th>month</th>\n",
       "    </tr>\n",
       "  </thead>\n",
       "  <tbody>\n",
       "    <tr>\n",
       "      <th>0</th>\n",
       "      <td>0_1</td>\n",
       "      <td>0</td>\n",
       "      <td>1</td>\n",
       "      <td>-0.300875</td>\n",
       "      <td>0.932573</td>\n",
       "      <td>0.113691</td>\n",
       "      <td>-0.402206</td>\n",
       "      <td>0.378386</td>\n",
       "      <td>-0.203938</td>\n",
       "      <td>-0.413469</td>\n",
       "      <td>...</td>\n",
       "      <td>-0.086764</td>\n",
       "      <td>-1.087009</td>\n",
       "      <td>-1.044826</td>\n",
       "      <td>-0.287605</td>\n",
       "      <td>0.321566</td>\n",
       "      <td>2014-01-02</td>\n",
       "      <td>3</td>\n",
       "      <td>2014</td>\n",
       "      <td>2</td>\n",
       "      <td>1</td>\n",
       "    </tr>\n",
       "    <tr>\n",
       "      <th>1</th>\n",
       "      <td>0_2</td>\n",
       "      <td>0</td>\n",
       "      <td>2</td>\n",
       "      <td>-0.231040</td>\n",
       "      <td>0.810802</td>\n",
       "      <td>-0.514115</td>\n",
       "      <td>0.742368</td>\n",
       "      <td>-0.616673</td>\n",
       "      <td>-0.194255</td>\n",
       "      <td>1.771210</td>\n",
       "      <td>...</td>\n",
       "      <td>-0.387617</td>\n",
       "      <td>-1.087009</td>\n",
       "      <td>-0.929529</td>\n",
       "      <td>-0.974060</td>\n",
       "      <td>-0.343624</td>\n",
       "      <td>2014-01-02</td>\n",
       "      <td>3</td>\n",
       "      <td>2014</td>\n",
       "      <td>2</td>\n",
       "      <td>1</td>\n",
       "    </tr>\n",
       "    <tr>\n",
       "      <th>2</th>\n",
       "      <td>0_6</td>\n",
       "      <td>0</td>\n",
       "      <td>6</td>\n",
       "      <td>0.568807</td>\n",
       "      <td>0.393974</td>\n",
       "      <td>0.615937</td>\n",
       "      <td>0.567806</td>\n",
       "      <td>-0.607963</td>\n",
       "      <td>0.068883</td>\n",
       "      <td>-1.083155</td>\n",
       "      <td>...</td>\n",
       "      <td>-0.219097</td>\n",
       "      <td>-1.087009</td>\n",
       "      <td>-0.612428</td>\n",
       "      <td>-0.113944</td>\n",
       "      <td>0.243608</td>\n",
       "      <td>2014-01-02</td>\n",
       "      <td>3</td>\n",
       "      <td>2014</td>\n",
       "      <td>2</td>\n",
       "      <td>1</td>\n",
       "    </tr>\n",
       "    <tr>\n",
       "      <th>3</th>\n",
       "      <td>0_7</td>\n",
       "      <td>0</td>\n",
       "      <td>7</td>\n",
       "      <td>-1.064780</td>\n",
       "      <td>-2.343535</td>\n",
       "      <td>-0.011870</td>\n",
       "      <td>1.874606</td>\n",
       "      <td>-0.606346</td>\n",
       "      <td>-0.586827</td>\n",
       "      <td>-0.815737</td>\n",
       "      <td>...</td>\n",
       "      <td>-0.609113</td>\n",
       "      <td>0.104928</td>\n",
       "      <td>-0.783423</td>\n",
       "      <td>1.151730</td>\n",
       "      <td>-0.773309</td>\n",
       "      <td>2014-01-02</td>\n",
       "      <td>3</td>\n",
       "      <td>2014</td>\n",
       "      <td>2</td>\n",
       "      <td>1</td>\n",
       "    </tr>\n",
       "    <tr>\n",
       "      <th>4</th>\n",
       "      <td>0_8</td>\n",
       "      <td>0</td>\n",
       "      <td>8</td>\n",
       "      <td>-0.531940</td>\n",
       "      <td>0.842057</td>\n",
       "      <td>-0.262993</td>\n",
       "      <td>2.330030</td>\n",
       "      <td>-0.583422</td>\n",
       "      <td>-0.618392</td>\n",
       "      <td>-0.742814</td>\n",
       "      <td>...</td>\n",
       "      <td>-0.588445</td>\n",
       "      <td>0.104928</td>\n",
       "      <td>0.753279</td>\n",
       "      <td>1.345611</td>\n",
       "      <td>-0.737624</td>\n",
       "      <td>2014-01-02</td>\n",
       "      <td>3</td>\n",
       "      <td>2014</td>\n",
       "      <td>2</td>\n",
       "      <td>1</td>\n",
       "    </tr>\n",
       "  </tbody>\n",
       "</table>\n",
       "<p>5 rows × 309 columns</p>\n",
       "</div>"
      ],
      "text/plain": [
       "  row_id  time_id  investment_id    target       f_0       f_1       f_2  \\\n",
       "0    0_1        0              1 -0.300875  0.932573  0.113691 -0.402206   \n",
       "1    0_2        0              2 -0.231040  0.810802 -0.514115  0.742368   \n",
       "2    0_6        0              6  0.568807  0.393974  0.615937  0.567806   \n",
       "3    0_7        0              7 -1.064780 -2.343535 -0.011870  1.874606   \n",
       "4    0_8        0              8 -0.531940  0.842057 -0.262993  2.330030   \n",
       "\n",
       "        f_3       f_4       f_5  ...     f_295     f_296     f_297     f_298  \\\n",
       "0  0.378386 -0.203938 -0.413469  ... -0.086764 -1.087009 -1.044826 -0.287605   \n",
       "1 -0.616673 -0.194255  1.771210  ... -0.387617 -1.087009 -0.929529 -0.974060   \n",
       "2 -0.607963  0.068883 -1.083155  ... -0.219097 -1.087009 -0.612428 -0.113944   \n",
       "3 -0.606346 -0.586827 -0.815737  ... -0.609113  0.104928 -0.783423  1.151730   \n",
       "4 -0.583422 -0.618392 -0.742814  ... -0.588445  0.104928  0.753279  1.345611   \n",
       "\n",
       "      f_299       date  weekday  year  day  month  \n",
       "0  0.321566 2014-01-02        3  2014    2      1  \n",
       "1 -0.343624 2014-01-02        3  2014    2      1  \n",
       "2  0.243608 2014-01-02        3  2014    2      1  \n",
       "3 -0.773309 2014-01-02        3  2014    2      1  \n",
       "4 -0.737624 2014-01-02        3  2014    2      1  \n",
       "\n",
       "[5 rows x 309 columns]"
      ]
     },
     "execution_count": 11,
     "metadata": {},
     "output_type": "execute_result"
    }
   ],
   "source": [
    "train = train.merge(calendar_df, how='left', on='time_id')\n",
    "train.head()"
   ]
  },
  {
   "cell_type": "markdown",
   "metadata": {
    "papermill": {
     "duration": 0.023059,
     "end_time": "2022-02-26T10:39:40.065713",
     "exception": false,
     "start_time": "2022-02-26T10:39:40.042654",
     "status": "completed"
    },
    "tags": []
   },
   "source": [
    "### Plot number of unique investment ids against time"
   ]
  },
  {
   "cell_type": "code",
   "execution_count": 12,
   "metadata": {
    "execution": {
     "iopub.execute_input": "2022-03-04T15:04:53.083018Z",
     "iopub.status.busy": "2022-03-04T15:04:53.082147Z",
     "iopub.status.idle": "2022-03-04T15:04:53.093017Z",
     "shell.execute_reply": "2022-03-04T15:04:53.092004Z",
     "shell.execute_reply.started": "2022-03-04T15:04:53.082962Z"
    },
    "papermill": {
     "duration": 1.677591,
     "end_time": "2022-02-26T10:39:41.771441",
     "exception": false,
     "start_time": "2022-02-26T10:39:40.09385",
     "status": "completed"
    },
    "tags": []
   },
   "outputs": [],
   "source": [
    "# train_date_group = train.groupby('date').agg({'investment_id': 'count', 'target': ['mean', 'std']})\n",
    "# # train_date_group = train_date_group[(train_date_group.index > '2015-05-15') & (train_date_group.index < '2016-03-07')]\n",
    "\n",
    "# fig = plt.figure(figsize=(18, 10))\n",
    "# ax = fig.add_subplot(111)\n",
    "# plt.plot(train_date_group.index, train_date_group.investment_id['count'] , label=\"Number of unique investments\")\n",
    "# plt.xticks(rotation=45)\n",
    "# ax.xaxis.set_major_formatter(mdates.DateFormatter('%d-%m-%Y'))\n",
    "# ax.xaxis.set_major_locator(mdates.MonthLocator(interval=1))"
   ]
  },
  {
   "cell_type": "markdown",
   "metadata": {
    "papermill": {
     "duration": 0.027142,
     "end_time": "2022-02-26T10:39:41.826241",
     "exception": false,
     "start_time": "2022-02-26T10:39:41.799099",
     "status": "completed"
    },
    "tags": []
   },
   "source": [
    "Plot mean target value grouped by time_id against time"
   ]
  },
  {
   "cell_type": "code",
   "execution_count": 13,
   "metadata": {
    "execution": {
     "iopub.execute_input": "2022-03-04T15:04:53.094731Z",
     "iopub.status.busy": "2022-03-04T15:04:53.094404Z",
     "iopub.status.idle": "2022-03-04T15:04:53.103433Z",
     "shell.execute_reply": "2022-03-04T15:04:53.102805Z",
     "shell.execute_reply.started": "2022-03-04T15:04:53.094702Z"
    },
    "papermill": {
     "duration": 1.225506,
     "end_time": "2022-02-26T10:39:43.077907",
     "exception": false,
     "start_time": "2022-02-26T10:39:41.852401",
     "status": "completed"
    },
    "tags": []
   },
   "outputs": [],
   "source": [
    "# fig = plt.figure(figsize=(18, 10))\n",
    "# ax = fig.add_subplot(111)\n",
    "# plt.plot(train_date_group.index, train_date_group.target['mean'] , label=\"Number of unique investments\")\n",
    "# plt.xticks(rotation=45)\n",
    "# ax.xaxis.set_major_formatter(mdates.DateFormatter('%d-%m-%Y'))\n",
    "# ax.xaxis.set_major_locator(mdates.MonthLocator(interval=1))"
   ]
  },
  {
   "cell_type": "markdown",
   "metadata": {
    "papermill": {
     "duration": 0.028876,
     "end_time": "2022-02-26T10:39:43.136336",
     "exception": false,
     "start_time": "2022-02-26T10:39:43.10746",
     "status": "completed"
    },
    "tags": []
   },
   "source": [
    "Plot std of target grouped by time_id against time"
   ]
  },
  {
   "cell_type": "code",
   "execution_count": 14,
   "metadata": {
    "execution": {
     "iopub.execute_input": "2022-03-04T15:04:53.105683Z",
     "iopub.status.busy": "2022-03-04T15:04:53.105326Z",
     "iopub.status.idle": "2022-03-04T15:04:53.115714Z",
     "shell.execute_reply": "2022-03-04T15:04:53.114908Z",
     "shell.execute_reply.started": "2022-03-04T15:04:53.105641Z"
    },
    "papermill": {
     "duration": 1.226788,
     "end_time": "2022-02-26T10:39:44.391882",
     "exception": false,
     "start_time": "2022-02-26T10:39:43.165094",
     "status": "completed"
    },
    "tags": []
   },
   "outputs": [],
   "source": [
    "# fig = plt.figure(figsize=(18, 10))\n",
    "# ax = fig.add_subplot(111)\n",
    "# plt.plot(train_date_group.index, train_date_group.target['std'] , label=\"Number of unique investments\")\n",
    "# plt.xticks(rotation=45)\n",
    "# ax.xaxis.set_major_formatter(mdates.DateFormatter('%d-%m-%Y'))\n",
    "# ax.xaxis.set_major_locator(mdates.MonthLocator(interval=1))"
   ]
  },
  {
   "cell_type": "markdown",
   "metadata": {
    "papermill": {
     "duration": 0.031583,
     "end_time": "2022-02-26T10:39:44.456137",
     "exception": false,
     "start_time": "2022-02-26T10:39:44.424554",
     "status": "completed"
    },
    "tags": []
   },
   "source": [
    "As we can see, segment of low number of unique investment ids and high volatility of target coinsides with period of Chineese stock market turbulence\n",
    "\n",
    "# Define to what Chineese companies each stock belongs"
   ]
  },
  {
   "cell_type": "code",
   "execution_count": 15,
   "metadata": {
    "execution": {
     "iopub.execute_input": "2022-03-04T15:04:53.134444Z",
     "iopub.status.busy": "2022-03-04T15:04:53.133884Z",
     "iopub.status.idle": "2022-03-04T15:05:09.809373Z",
     "shell.execute_reply": "2022-03-04T15:05:09.807718Z",
     "shell.execute_reply.started": "2022-03-04T15:04:53.13441Z"
    }
   },
   "outputs": [],
   "source": [
    "# min_date = calendar_df.date.min()\n",
    "# max_date = calendar_df.date.max()\n",
    "\n",
    "# a_share_tickers = pd.DataFrame()\n",
    "# a_share_tickers.index = calendar_df['date']\n",
    "\n",
    "# for i in range(len(tickers)):\n",
    "#     tickers[i] = tickers[i].replace('XSHG', 'SS').replace('XSHE', 'SZ')\n",
    "#     ticker_history = yf.download(tickers[i], start=min_date, end=max_date+timedelta(days=1))['Close']\n",
    "#     if len(ticker_history) > 0:\n",
    "#         a_share_tickers[tickers[i]] = ticker_history   "
   ]
  },
  {
   "cell_type": "code",
   "execution_count": 16,
   "metadata": {
    "execution": {
     "iopub.status.busy": "2022-03-04T15:05:09.81057Z",
     "iopub.status.idle": "2022-03-04T15:05:09.810914Z",
     "shell.execute_reply": "2022-03-04T15:05:09.810751Z",
     "shell.execute_reply.started": "2022-03-04T15:05:09.810734Z"
    }
   },
   "outputs": [],
   "source": [
    "# a_share_tickers.to_csv('a_share_tickers.csv')"
   ]
  },
  {
   "cell_type": "markdown",
   "metadata": {},
   "source": [
    "### Count target correlation between every two investment_ids"
   ]
  },
  {
   "cell_type": "code",
   "execution_count": 17,
   "metadata": {},
   "outputs": [],
   "source": [
    "train_group = train.groupby('investment_id').agg({'target': 'count'})\n",
    "# train_group = train_group[train_group.target >= 100]\n",
    "all_inv_ids = train_group.index.astype(int)\n",
    "inv_ids_corr = pd.DataFrame(index=all_inv_ids, columns=all_inv_ids).fillna(0)"
   ]
  },
  {
   "cell_type": "code",
   "execution_count": null,
   "metadata": {
    "execution": {
     "iopub.execute_input": "2022-03-05T08:16:37.815098Z",
     "iopub.status.busy": "2022-03-05T08:16:37.814807Z"
    },
    "scrolled": true
   },
   "outputs": [
    {
     "data": {
      "application/vnd.jupyter.widget-view+json": {
       "model_id": "90041f8fe2744772a13efc4d6effead3",
       "version_major": 2,
       "version_minor": 0
      },
      "text/plain": [
       "  0%|          | 0/3579 [00:00<?, ?it/s]"
      ]
     },
     "metadata": {},
     "output_type": "display_data"
    },
    {
     "data": {
      "application/vnd.jupyter.widget-view+json": {
       "model_id": "",
       "version_major": 2,
       "version_minor": 0
      },
      "text/plain": [
       "  0%|          | 0/3579 [00:00<?, ?it/s]"
      ]
     },
     "metadata": {},
     "output_type": "display_data"
    },
    {
     "data": {
      "application/vnd.jupyter.widget-view+json": {
       "model_id": "",
       "version_major": 2,
       "version_minor": 0
      },
      "text/plain": [
       "  0%|          | 0/3578 [00:00<?, ?it/s]"
      ]
     },
     "metadata": {},
     "output_type": "display_data"
    },
    {
     "data": {
      "application/vnd.jupyter.widget-view+json": {
       "model_id": "",
       "version_major": 2,
       "version_minor": 0
      },
      "text/plain": [
       "  0%|          | 0/3577 [00:00<?, ?it/s]"
      ]
     },
     "metadata": {},
     "output_type": "display_data"
    },
    {
     "data": {
      "application/vnd.jupyter.widget-view+json": {
       "model_id": "",
       "version_major": 2,
       "version_minor": 0
      },
      "text/plain": [
       "  0%|          | 0/3576 [00:00<?, ?it/s]"
      ]
     },
     "metadata": {},
     "output_type": "display_data"
    },
    {
     "data": {
      "application/vnd.jupyter.widget-view+json": {
       "model_id": "",
       "version_major": 2,
       "version_minor": 0
      },
      "text/plain": [
       "  0%|          | 0/3575 [00:00<?, ?it/s]"
      ]
     },
     "metadata": {},
     "output_type": "display_data"
    },
    {
     "data": {
      "application/vnd.jupyter.widget-view+json": {
       "model_id": "",
       "version_major": 2,
       "version_minor": 0
      },
      "text/plain": [
       "  0%|          | 0/3573 [00:00<?, ?it/s]"
      ]
     },
     "metadata": {},
     "output_type": "display_data"
    },
    {
     "data": {
      "application/vnd.jupyter.widget-view+json": {
       "model_id": "",
       "version_major": 2,
       "version_minor": 0
      },
      "text/plain": [
       "  0%|          | 0/3572 [00:00<?, ?it/s]"
      ]
     },
     "metadata": {},
     "output_type": "display_data"
    },
    {
     "data": {
      "application/vnd.jupyter.widget-view+json": {
       "model_id": "",
       "version_major": 2,
       "version_minor": 0
      },
      "text/plain": [
       "  0%|          | 0/3571 [00:00<?, ?it/s]"
      ]
     },
     "metadata": {},
     "output_type": "display_data"
    },
    {
     "data": {
      "application/vnd.jupyter.widget-view+json": {
       "model_id": "",
       "version_major": 2,
       "version_minor": 0
      },
      "text/plain": [
       "  0%|          | 0/3570 [00:00<?, ?it/s]"
      ]
     },
     "metadata": {},
     "output_type": "display_data"
    },
    {
     "data": {
      "application/vnd.jupyter.widget-view+json": {
       "model_id": "",
       "version_major": 2,
       "version_minor": 0
      },
      "text/plain": [
       "  0%|          | 0/3569 [00:00<?, ?it/s]"
      ]
     },
     "metadata": {},
     "output_type": "display_data"
    },
    {
     "data": {
      "application/vnd.jupyter.widget-view+json": {
       "model_id": "",
       "version_major": 2,
       "version_minor": 0
      },
      "text/plain": [
       "  0%|          | 0/3568 [00:00<?, ?it/s]"
      ]
     },
     "metadata": {},
     "output_type": "display_data"
    },
    {
     "data": {
      "application/vnd.jupyter.widget-view+json": {
       "model_id": "",
       "version_major": 2,
       "version_minor": 0
      },
      "text/plain": [
       "  0%|          | 0/3567 [00:00<?, ?it/s]"
      ]
     },
     "metadata": {},
     "output_type": "display_data"
    },
    {
     "data": {
      "application/vnd.jupyter.widget-view+json": {
       "model_id": "",
       "version_major": 2,
       "version_minor": 0
      },
      "text/plain": [
       "  0%|          | 0/3566 [00:00<?, ?it/s]"
      ]
     },
     "metadata": {},
     "output_type": "display_data"
    },
    {
     "data": {
      "application/vnd.jupyter.widget-view+json": {
       "model_id": "",
       "version_major": 2,
       "version_minor": 0
      },
      "text/plain": [
       "  0%|          | 0/3565 [00:00<?, ?it/s]"
      ]
     },
     "metadata": {},
     "output_type": "display_data"
    },
    {
     "data": {
      "application/vnd.jupyter.widget-view+json": {
       "model_id": "",
       "version_major": 2,
       "version_minor": 0
      },
      "text/plain": [
       "  0%|          | 0/3564 [00:00<?, ?it/s]"
      ]
     },
     "metadata": {},
     "output_type": "display_data"
    },
    {
     "data": {
      "application/vnd.jupyter.widget-view+json": {
       "model_id": "",
       "version_major": 2,
       "version_minor": 0
      },
      "text/plain": [
       "  0%|          | 0/3563 [00:00<?, ?it/s]"
      ]
     },
     "metadata": {},
     "output_type": "display_data"
    },
    {
     "data": {
      "application/vnd.jupyter.widget-view+json": {
       "model_id": "",
       "version_major": 2,
       "version_minor": 0
      },
      "text/plain": [
       "  0%|          | 0/3562 [00:00<?, ?it/s]"
      ]
     },
     "metadata": {},
     "output_type": "display_data"
    },
    {
     "data": {
      "application/vnd.jupyter.widget-view+json": {
       "model_id": "",
       "version_major": 2,
       "version_minor": 0
      },
      "text/plain": [
       "  0%|          | 0/3561 [00:00<?, ?it/s]"
      ]
     },
     "metadata": {},
     "output_type": "display_data"
    },
    {
     "data": {
      "application/vnd.jupyter.widget-view+json": {
       "model_id": "",
       "version_major": 2,
       "version_minor": 0
      },
      "text/plain": [
       "  0%|          | 0/3560 [00:00<?, ?it/s]"
      ]
     },
     "metadata": {},
     "output_type": "display_data"
    },
    {
     "data": {
      "application/vnd.jupyter.widget-view+json": {
       "model_id": "",
       "version_major": 2,
       "version_minor": 0
      },
      "text/plain": [
       "  0%|          | 0/3559 [00:00<?, ?it/s]"
      ]
     },
     "metadata": {},
     "output_type": "display_data"
    },
    {
     "data": {
      "application/vnd.jupyter.widget-view+json": {
       "model_id": "",
       "version_major": 2,
       "version_minor": 0
      },
      "text/plain": [
       "  0%|          | 0/3558 [00:00<?, ?it/s]"
      ]
     },
     "metadata": {},
     "output_type": "display_data"
    },
    {
     "data": {
      "application/vnd.jupyter.widget-view+json": {
       "model_id": "",
       "version_major": 2,
       "version_minor": 0
      },
      "text/plain": [
       "  0%|          | 0/3557 [00:00<?, ?it/s]"
      ]
     },
     "metadata": {},
     "output_type": "display_data"
    },
    {
     "data": {
      "application/vnd.jupyter.widget-view+json": {
       "model_id": "",
       "version_major": 2,
       "version_minor": 0
      },
      "text/plain": [
       "  0%|          | 0/3556 [00:00<?, ?it/s]"
      ]
     },
     "metadata": {},
     "output_type": "display_data"
    },
    {
     "data": {
      "application/vnd.jupyter.widget-view+json": {
       "model_id": "",
       "version_major": 2,
       "version_minor": 0
      },
      "text/plain": [
       "  0%|          | 0/3555 [00:00<?, ?it/s]"
      ]
     },
     "metadata": {},
     "output_type": "display_data"
    },
    {
     "data": {
      "application/vnd.jupyter.widget-view+json": {
       "model_id": "",
       "version_major": 2,
       "version_minor": 0
      },
      "text/plain": [
       "  0%|          | 0/3553 [00:00<?, ?it/s]"
      ]
     },
     "metadata": {},
     "output_type": "display_data"
    },
    {
     "data": {
      "application/vnd.jupyter.widget-view+json": {
       "model_id": "",
       "version_major": 2,
       "version_minor": 0
      },
      "text/plain": [
       "  0%|          | 0/3551 [00:00<?, ?it/s]"
      ]
     },
     "metadata": {},
     "output_type": "display_data"
    },
    {
     "data": {
      "application/vnd.jupyter.widget-view+json": {
       "model_id": "",
       "version_major": 2,
       "version_minor": 0
      },
      "text/plain": [
       "  0%|          | 0/3550 [00:00<?, ?it/s]"
      ]
     },
     "metadata": {},
     "output_type": "display_data"
    },
    {
     "data": {
      "application/vnd.jupyter.widget-view+json": {
       "model_id": "",
       "version_major": 2,
       "version_minor": 0
      },
      "text/plain": [
       "  0%|          | 0/3549 [00:00<?, ?it/s]"
      ]
     },
     "metadata": {},
     "output_type": "display_data"
    },
    {
     "data": {
      "application/vnd.jupyter.widget-view+json": {
       "model_id": "",
       "version_major": 2,
       "version_minor": 0
      },
      "text/plain": [
       "  0%|          | 0/3548 [00:00<?, ?it/s]"
      ]
     },
     "metadata": {},
     "output_type": "display_data"
    },
    {
     "data": {
      "application/vnd.jupyter.widget-view+json": {
       "model_id": "",
       "version_major": 2,
       "version_minor": 0
      },
      "text/plain": [
       "  0%|          | 0/3547 [00:00<?, ?it/s]"
      ]
     },
     "metadata": {},
     "output_type": "display_data"
    },
    {
     "data": {
      "application/vnd.jupyter.widget-view+json": {
       "model_id": "",
       "version_major": 2,
       "version_minor": 0
      },
      "text/plain": [
       "  0%|          | 0/3546 [00:00<?, ?it/s]"
      ]
     },
     "metadata": {},
     "output_type": "display_data"
    },
    {
     "data": {
      "application/vnd.jupyter.widget-view+json": {
       "model_id": "",
       "version_major": 2,
       "version_minor": 0
      },
      "text/plain": [
       "  0%|          | 0/3545 [00:00<?, ?it/s]"
      ]
     },
     "metadata": {},
     "output_type": "display_data"
    },
    {
     "data": {
      "application/vnd.jupyter.widget-view+json": {
       "model_id": "",
       "version_major": 2,
       "version_minor": 0
      },
      "text/plain": [
       "  0%|          | 0/3544 [00:00<?, ?it/s]"
      ]
     },
     "metadata": {},
     "output_type": "display_data"
    },
    {
     "data": {
      "application/vnd.jupyter.widget-view+json": {
       "model_id": "",
       "version_major": 2,
       "version_minor": 0
      },
      "text/plain": [
       "  0%|          | 0/3543 [00:00<?, ?it/s]"
      ]
     },
     "metadata": {},
     "output_type": "display_data"
    },
    {
     "data": {
      "application/vnd.jupyter.widget-view+json": {
       "model_id": "",
       "version_major": 2,
       "version_minor": 0
      },
      "text/plain": [
       "  0%|          | 0/3542 [00:00<?, ?it/s]"
      ]
     },
     "metadata": {},
     "output_type": "display_data"
    },
    {
     "data": {
      "application/vnd.jupyter.widget-view+json": {
       "model_id": "",
       "version_major": 2,
       "version_minor": 0
      },
      "text/plain": [
       "  0%|          | 0/3539 [00:00<?, ?it/s]"
      ]
     },
     "metadata": {},
     "output_type": "display_data"
    },
    {
     "data": {
      "application/vnd.jupyter.widget-view+json": {
       "model_id": "",
       "version_major": 2,
       "version_minor": 0
      },
      "text/plain": [
       "  0%|          | 0/3538 [00:00<?, ?it/s]"
      ]
     },
     "metadata": {},
     "output_type": "display_data"
    },
    {
     "data": {
      "application/vnd.jupyter.widget-view+json": {
       "model_id": "",
       "version_major": 2,
       "version_minor": 0
      },
      "text/plain": [
       "  0%|          | 0/3537 [00:00<?, ?it/s]"
      ]
     },
     "metadata": {},
     "output_type": "display_data"
    },
    {
     "data": {
      "application/vnd.jupyter.widget-view+json": {
       "model_id": "",
       "version_major": 2,
       "version_minor": 0
      },
      "text/plain": [
       "  0%|          | 0/3536 [00:00<?, ?it/s]"
      ]
     },
     "metadata": {},
     "output_type": "display_data"
    },
    {
     "data": {
      "application/vnd.jupyter.widget-view+json": {
       "model_id": "",
       "version_major": 2,
       "version_minor": 0
      },
      "text/plain": [
       "  0%|          | 0/3535 [00:00<?, ?it/s]"
      ]
     },
     "metadata": {},
     "output_type": "display_data"
    },
    {
     "data": {
      "application/vnd.jupyter.widget-view+json": {
       "model_id": "",
       "version_major": 2,
       "version_minor": 0
      },
      "text/plain": [
       "  0%|          | 0/3534 [00:00<?, ?it/s]"
      ]
     },
     "metadata": {},
     "output_type": "display_data"
    },
    {
     "data": {
      "application/vnd.jupyter.widget-view+json": {
       "model_id": "",
       "version_major": 2,
       "version_minor": 0
      },
      "text/plain": [
       "  0%|          | 0/3533 [00:00<?, ?it/s]"
      ]
     },
     "metadata": {},
     "output_type": "display_data"
    },
    {
     "data": {
      "application/vnd.jupyter.widget-view+json": {
       "model_id": "",
       "version_major": 2,
       "version_minor": 0
      },
      "text/plain": [
       "  0%|          | 0/3532 [00:00<?, ?it/s]"
      ]
     },
     "metadata": {},
     "output_type": "display_data"
    },
    {
     "data": {
      "application/vnd.jupyter.widget-view+json": {
       "model_id": "",
       "version_major": 2,
       "version_minor": 0
      },
      "text/plain": [
       "  0%|          | 0/3531 [00:00<?, ?it/s]"
      ]
     },
     "metadata": {},
     "output_type": "display_data"
    },
    {
     "data": {
      "application/vnd.jupyter.widget-view+json": {
       "model_id": "",
       "version_major": 2,
       "version_minor": 0
      },
      "text/plain": [
       "  0%|          | 0/3530 [00:00<?, ?it/s]"
      ]
     },
     "metadata": {},
     "output_type": "display_data"
    },
    {
     "data": {
      "application/vnd.jupyter.widget-view+json": {
       "model_id": "",
       "version_major": 2,
       "version_minor": 0
      },
      "text/plain": [
       "  0%|          | 0/3529 [00:00<?, ?it/s]"
      ]
     },
     "metadata": {},
     "output_type": "display_data"
    },
    {
     "data": {
      "application/vnd.jupyter.widget-view+json": {
       "model_id": "",
       "version_major": 2,
       "version_minor": 0
      },
      "text/plain": [
       "  0%|          | 0/3528 [00:00<?, ?it/s]"
      ]
     },
     "metadata": {},
     "output_type": "display_data"
    },
    {
     "data": {
      "application/vnd.jupyter.widget-view+json": {
       "model_id": "",
       "version_major": 2,
       "version_minor": 0
      },
      "text/plain": [
       "  0%|          | 0/3527 [00:00<?, ?it/s]"
      ]
     },
     "metadata": {},
     "output_type": "display_data"
    },
    {
     "data": {
      "application/vnd.jupyter.widget-view+json": {
       "model_id": "",
       "version_major": 2,
       "version_minor": 0
      },
      "text/plain": [
       "  0%|          | 0/3526 [00:00<?, ?it/s]"
      ]
     },
     "metadata": {},
     "output_type": "display_data"
    },
    {
     "data": {
      "application/vnd.jupyter.widget-view+json": {
       "model_id": "",
       "version_major": 2,
       "version_minor": 0
      },
      "text/plain": [
       "  0%|          | 0/3525 [00:00<?, ?it/s]"
      ]
     },
     "metadata": {},
     "output_type": "display_data"
    },
    {
     "data": {
      "application/vnd.jupyter.widget-view+json": {
       "model_id": "",
       "version_major": 2,
       "version_minor": 0
      },
      "text/plain": [
       "  0%|          | 0/3524 [00:00<?, ?it/s]"
      ]
     },
     "metadata": {},
     "output_type": "display_data"
    },
    {
     "data": {
      "application/vnd.jupyter.widget-view+json": {
       "model_id": "",
       "version_major": 2,
       "version_minor": 0
      },
      "text/plain": [
       "  0%|          | 0/3523 [00:00<?, ?it/s]"
      ]
     },
     "metadata": {},
     "output_type": "display_data"
    },
    {
     "data": {
      "application/vnd.jupyter.widget-view+json": {
       "model_id": "",
       "version_major": 2,
       "version_minor": 0
      },
      "text/plain": [
       "  0%|          | 0/3522 [00:00<?, ?it/s]"
      ]
     },
     "metadata": {},
     "output_type": "display_data"
    },
    {
     "data": {
      "application/vnd.jupyter.widget-view+json": {
       "model_id": "",
       "version_major": 2,
       "version_minor": 0
      },
      "text/plain": [
       "  0%|          | 0/3521 [00:00<?, ?it/s]"
      ]
     },
     "metadata": {},
     "output_type": "display_data"
    },
    {
     "data": {
      "application/vnd.jupyter.widget-view+json": {
       "model_id": "",
       "version_major": 2,
       "version_minor": 0
      },
      "text/plain": [
       "  0%|          | 0/3520 [00:00<?, ?it/s]"
      ]
     },
     "metadata": {},
     "output_type": "display_data"
    },
    {
     "data": {
      "application/vnd.jupyter.widget-view+json": {
       "model_id": "",
       "version_major": 2,
       "version_minor": 0
      },
      "text/plain": [
       "  0%|          | 0/3519 [00:00<?, ?it/s]"
      ]
     },
     "metadata": {},
     "output_type": "display_data"
    },
    {
     "data": {
      "application/vnd.jupyter.widget-view+json": {
       "model_id": "",
       "version_major": 2,
       "version_minor": 0
      },
      "text/plain": [
       "  0%|          | 0/3518 [00:00<?, ?it/s]"
      ]
     },
     "metadata": {},
     "output_type": "display_data"
    },
    {
     "data": {
      "application/vnd.jupyter.widget-view+json": {
       "model_id": "",
       "version_major": 2,
       "version_minor": 0
      },
      "text/plain": [
       "  0%|          | 0/3517 [00:00<?, ?it/s]"
      ]
     },
     "metadata": {},
     "output_type": "display_data"
    },
    {
     "data": {
      "application/vnd.jupyter.widget-view+json": {
       "model_id": "",
       "version_major": 2,
       "version_minor": 0
      },
      "text/plain": [
       "  0%|          | 0/3516 [00:00<?, ?it/s]"
      ]
     },
     "metadata": {},
     "output_type": "display_data"
    },
    {
     "data": {
      "application/vnd.jupyter.widget-view+json": {
       "model_id": "",
       "version_major": 2,
       "version_minor": 0
      },
      "text/plain": [
       "  0%|          | 0/3515 [00:00<?, ?it/s]"
      ]
     },
     "metadata": {},
     "output_type": "display_data"
    },
    {
     "data": {
      "application/vnd.jupyter.widget-view+json": {
       "model_id": "",
       "version_major": 2,
       "version_minor": 0
      },
      "text/plain": [
       "  0%|          | 0/3514 [00:00<?, ?it/s]"
      ]
     },
     "metadata": {},
     "output_type": "display_data"
    },
    {
     "data": {
      "application/vnd.jupyter.widget-view+json": {
       "model_id": "",
       "version_major": 2,
       "version_minor": 0
      },
      "text/plain": [
       "  0%|          | 0/3513 [00:00<?, ?it/s]"
      ]
     },
     "metadata": {},
     "output_type": "display_data"
    },
    {
     "data": {
      "application/vnd.jupyter.widget-view+json": {
       "model_id": "",
       "version_major": 2,
       "version_minor": 0
      },
      "text/plain": [
       "  0%|          | 0/3512 [00:00<?, ?it/s]"
      ]
     },
     "metadata": {},
     "output_type": "display_data"
    },
    {
     "data": {
      "application/vnd.jupyter.widget-view+json": {
       "model_id": "",
       "version_major": 2,
       "version_minor": 0
      },
      "text/plain": [
       "  0%|          | 0/3511 [00:00<?, ?it/s]"
      ]
     },
     "metadata": {},
     "output_type": "display_data"
    },
    {
     "data": {
      "application/vnd.jupyter.widget-view+json": {
       "model_id": "",
       "version_major": 2,
       "version_minor": 0
      },
      "text/plain": [
       "  0%|          | 0/3510 [00:00<?, ?it/s]"
      ]
     },
     "metadata": {},
     "output_type": "display_data"
    },
    {
     "data": {
      "application/vnd.jupyter.widget-view+json": {
       "model_id": "",
       "version_major": 2,
       "version_minor": 0
      },
      "text/plain": [
       "  0%|          | 0/3509 [00:00<?, ?it/s]"
      ]
     },
     "metadata": {},
     "output_type": "display_data"
    },
    {
     "data": {
      "application/vnd.jupyter.widget-view+json": {
       "model_id": "e5ee6b789a024788aa706ccf532db3e4",
       "version_major": 2,
       "version_minor": 0
      },
      "text/plain": [
       "  0%|          | 0/3508 [00:00<?, ?it/s]"
      ]
     },
     "metadata": {},
     "output_type": "display_data"
    }
   ],
   "source": [
    "for inv_id1 in tqdm(all_inv_ids, leave=False):\n",
    "    for inv_id2 in tqdm(all_inv_ids[inv_id1:], leave=False):\n",
    "        if inv_id1 == inv_id2:\n",
    "            inv_ids_corr.loc[inv_id1, inv_id2] = 1\n",
    "            continue \n",
    "        investment_id_history_1 = train.loc[train.investment_id == inv_id1, 'target']\n",
    "        investment_id_history_2 = train.loc[train.investment_id == inv_id2, 'target']\n",
    "        \n",
    "        idx_intersec = investment_id_history_1.index.intersection(investment_id_history_2.index)\n",
    "\n",
    "        if len(idx_intersec)/len(investment_id_history_1) < 0.1 or len(idx_intersec)/len(investment_id_history_2) < 0.1:\n",
    "            inv_ids_corr.loc[inv_id1, inv_id2] = 0\n",
    "            continue\n",
    "            \n",
    "        corr = investment_id_history_1.loc[idx_intersec].corrwith(investment_id_history_2.loc[idx_intersec])\n",
    "        inv_ids_corr.loc[inv_id1, inv_id2] = corr[0]\n",
    "                                                                \n",
    "inv_ids_corr.to_csv('inv_ids_corr.csv')"
   ]
  },
  {
   "cell_type": "code",
   "execution_count": 72,
   "metadata": {},
   "outputs": [],
   "source": [
    "inv_id_to_a_share = pd.DataFrame.from_dict(inv_id_corr, orient='index', columns=['corr', 'ticker', 'len'])\n",
    "inv_id_to_a_share['sector'] = ''"
   ]
  },
  {
   "cell_type": "code",
   "execution_count": 81,
   "metadata": {},
   "outputs": [
    {
     "data": {
      "application/vnd.jupyter.widget-view+json": {
       "model_id": "65e3fabf9afe440d8874528b05bb5b34",
       "version_major": 2,
       "version_minor": 0
      },
      "text/plain": [
       "  0%|          | 0/1320 [00:00<?, ?it/s]"
      ]
     },
     "metadata": {},
     "output_type": "display_data"
    }
   ],
   "source": [
    "for idx, row in tqdm(inv_id_to_a_share.iloc[904+1309:].iterrows(), total=len(inv_id_to_a_share.iloc[904+1309:])):\n",
    "    try:\n",
    "        sector = yf.Ticker(row['ticker']).info['sector']\n",
    "    except KeyError:\n",
    "        continue\n",
    "    inv_id_to_a_share.loc[idx, 'sector'] = sector\n",
    "    "
   ]
  },
  {
   "cell_type": "code",
   "execution_count": 127,
   "metadata": {
    "scrolled": true
   },
   "outputs": [],
   "source": [
    "inv_id_to_a_share.to_csv('inv_id_to_a_share.csv')"
   ]
  }
 ],
 "metadata": {
  "kernelspec": {
   "display_name": "Python 3 (ipykernel)",
   "language": "python",
   "name": "python3"
  },
  "language_info": {
   "codemirror_mode": {
    "name": "ipython",
    "version": 3
   },
   "file_extension": ".py",
   "mimetype": "text/x-python",
   "name": "python",
   "nbconvert_exporter": "python",
   "pygments_lexer": "ipython3",
   "version": "3.8.10"
  }
 },
 "nbformat": 4,
 "nbformat_minor": 4
}
